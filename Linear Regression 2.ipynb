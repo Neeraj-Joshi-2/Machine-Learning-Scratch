{
 "cells": [
  {
   "cell_type": "code",
   "execution_count": 1,
   "metadata": {},
   "outputs": [],
   "source": [
    "import pandas as pd\n",
    "import matplotlib.pyplot as plt\n",
    "import numpy as np"
   ]
  },
  {
   "cell_type": "code",
   "execution_count": 2,
   "metadata": {},
   "outputs": [],
   "source": [
    "data = pd.read_csv(\"salary_data.csv\")"
   ]
  },
  {
   "cell_type": "code",
   "execution_count": 3,
   "metadata": {},
   "outputs": [],
   "source": [
    "# data = data.sample(frac = 1)"
   ]
  },
  {
   "cell_type": "code",
   "execution_count": 4,
   "metadata": {
    "scrolled": true
   },
   "outputs": [
    {
     "data": {
      "text/html": [
       "<div>\n",
       "<style scoped>\n",
       "    .dataframe tbody tr th:only-of-type {\n",
       "        vertical-align: middle;\n",
       "    }\n",
       "\n",
       "    .dataframe tbody tr th {\n",
       "        vertical-align: top;\n",
       "    }\n",
       "\n",
       "    .dataframe thead th {\n",
       "        text-align: right;\n",
       "    }\n",
       "</style>\n",
       "<table border=\"1\" class=\"dataframe\">\n",
       "  <thead>\n",
       "    <tr style=\"text-align: right;\">\n",
       "      <th></th>\n",
       "      <th>YearsExperience</th>\n",
       "      <th>Salary</th>\n",
       "    </tr>\n",
       "  </thead>\n",
       "  <tbody>\n",
       "    <tr>\n",
       "      <th>0</th>\n",
       "      <td>1.1</td>\n",
       "      <td>39343</td>\n",
       "    </tr>\n",
       "    <tr>\n",
       "      <th>1</th>\n",
       "      <td>1.3</td>\n",
       "      <td>46205</td>\n",
       "    </tr>\n",
       "    <tr>\n",
       "      <th>2</th>\n",
       "      <td>1.5</td>\n",
       "      <td>37731</td>\n",
       "    </tr>\n",
       "    <tr>\n",
       "      <th>3</th>\n",
       "      <td>2.0</td>\n",
       "      <td>43525</td>\n",
       "    </tr>\n",
       "    <tr>\n",
       "      <th>4</th>\n",
       "      <td>2.2</td>\n",
       "      <td>39891</td>\n",
       "    </tr>\n",
       "  </tbody>\n",
       "</table>\n",
       "</div>"
      ],
      "text/plain": [
       "   YearsExperience  Salary\n",
       "0              1.1   39343\n",
       "1              1.3   46205\n",
       "2              1.5   37731\n",
       "3              2.0   43525\n",
       "4              2.2   39891"
      ]
     },
     "execution_count": 4,
     "metadata": {},
     "output_type": "execute_result"
    }
   ],
   "source": [
    "data_train  = data.iloc[0 : 20 , [0 , 1]]\n",
    "\n",
    "data_train.head()"
   ]
  },
  {
   "cell_type": "code",
   "execution_count": 5,
   "metadata": {},
   "outputs": [],
   "source": [
    "data_test = data.iloc[20 : ]"
   ]
  },
  {
   "cell_type": "code",
   "execution_count": 6,
   "metadata": {},
   "outputs": [
    {
     "data": {
      "text/plain": [
       "array([[<matplotlib.axes._subplots.AxesSubplot object at 0x000001C9AA7EB508>,\n",
       "        <matplotlib.axes._subplots.AxesSubplot object at 0x000001C9AA403988>]],\n",
       "      dtype=object)"
      ]
     },
     "execution_count": 6,
     "metadata": {},
     "output_type": "execute_result"
    },
    {
     "data": {
      "image/png": "[encoded data removed]",
      "text/plain": [
       "<Figure size 432x288 with 2 Axes>"
      ]
     },
     "metadata": {
      "needs_background": "light"
     },
     "output_type": "display_data"
    }
   ],
   "source": [
    "data.hist()"
   ]
  },
  {
   "cell_type": "code",
   "execution_count": 7,
   "metadata": {},
   "outputs": [
    {
     "data": {
      "image/png": "[encoded data removed]",
      "text/plain": [
       "<Figure size 432x288 with 1 Axes>"
      ]
     },
     "metadata": {
      "needs_background": "light"
     },
     "output_type": "display_data"
    }
   ],
   "source": [
    "plt.scatter(data[\"YearsExperience\"] , data[\"Salary\"]) \n",
    "plt.xlabel(\"YearsExperience\") \n",
    "plt.ylabel(\"Salary\")\n",
    "plt.show()"
   ]
  },
  {
   "cell_type": "code",
   "execution_count": 8,
   "metadata": {},
   "outputs": [],
   "source": [
    "def simple_linear_regression(feature , output) :\n",
    "    \n",
    "    Xi = feature\n",
    "    Yi = output\n",
    "    N = len(Xi)\n",
    "    \n",
    "    Yi_mean = Yi.mean()\n",
    "    Xi_mean = Xi.mean()\n",
    "    \n",
    "    S_YiXi = (Yi*Xi).sum()\n",
    "    Yi_Xi_ByN = (Yi.sum() * Xi.sum()) / N\n",
    "    \n",
    "    S_XiXi = (Xi*Xi).sum()\n",
    "    XiXi_ByN = (Xi.sum() * Xi.sum()) / N\n",
    "    \n",
    "    slope = (S_YiXi - Yi_Xi_ByN) / (S_XiXi - XiXi_ByN)\n",
    "    \n",
    "    intercept = Yi_mean - slope * Xi_mean\n",
    "    \n",
    "    return (intercept , slope)"
   ]
  },
  {
   "cell_type": "markdown",
   "metadata": {},
   "source": [
    "TESTING WITH BASIC DATA"
   ]
  },
  {
   "cell_type": "code",
   "execution_count": 9,
   "metadata": {},
   "outputs": [
    {
     "name": "stdout",
     "output_type": "stream",
     "text": [
      "slope :  1.0\n",
      "intercept :  0.0\n"
     ]
    }
   ],
   "source": [
    "f = np.array((1,2,3,4,5))\n",
    "o = np.array((1,2,3,4,5))\n",
    "# o = np.array(1 + 1*f)\n",
    "\n",
    "i , s = simple_linear_regression(f , o)\n",
    "\n",
    "print(\"slope : \" , s)\n",
    "print(\"intercept : \" , i)"
   ]
  },
  {
   "cell_type": "markdown",
   "metadata": {},
   "source": [
    "WORKS PERFECTELY FINE"
   ]
  },
  {
   "cell_type": "markdown",
   "metadata": {},
   "source": [
    "TRAINING THE MODEL"
   ]
  },
  {
   "cell_type": "code",
   "execution_count": 10,
   "metadata": {},
   "outputs": [
    {
     "name": "stdout",
     "output_type": "stream",
     "text": [
      "INTERCEPT :  26577.400019513207\n",
      "SLOPE :  9116.1142006927\n"
     ]
    }
   ],
   "source": [
    "intercept , slope = simple_linear_regression(data_train[\"YearsExperience\"] , data_train[\"Salary\"])\n",
    "\n",
    "print(\"INTERCEPT : \" , intercept)\n",
    "print(\"SLOPE : \" , slope)"
   ]
  },
  {
   "cell_type": "markdown",
   "metadata": {},
   "source": [
    "PLOT THE REGRESSION LINE "
   ]
  },
  {
   "cell_type": "code",
   "execution_count": 11,
   "metadata": {},
   "outputs": [
    {
     "data": {
      "text/plain": [
       "Text(0.5, 0, 'SALARY')"
      ]
     },
     "execution_count": 11,
     "metadata": {},
     "output_type": "execute_result"
    },
    {
     "data": {
      "image/png": "[encoded data removed]",
      "text/plain": [
       "<Figure size 432x288 with 1 Axes>"
      ]
     },
     "metadata": {
      "needs_background": "light"
     },
     "output_type": "display_data"
    }
   ],
   "source": [
    "plt.scatter(data_train[\"YearsExperience\"] , data_train[\"Salary\"])\n",
    "plt.plot(data_train[\"YearsExperience\"] , slope * data_train[\"YearsExperience\"] + intercept , '-r')\n",
    "\n",
    "plt.xlabel(\"YEARS\")\n",
    "plt.xlabel(\"SALARY\")"
   ]
  },
  {
   "cell_type": "code",
   "execution_count": 12,
   "metadata": {},
   "outputs": [],
   "source": [
    "def prediction(features , intercept , slope) :\n",
    "    \n",
    "    predicted = features * slope + intercept\n",
    "    \n",
    "    return predicted"
   ]
  },
  {
   "cell_type": "code",
   "execution_count": 13,
   "metadata": {},
   "outputs": [],
   "source": [
    "def inverse_prediction(output , intercept , slope) :\n",
    "    \n",
    "    feature = (output - intercept) / slope\n",
    "    \n",
    "    return feature"
   ]
  },
  {
   "cell_type": "markdown",
   "metadata": {},
   "source": [
    "1) Residual Sum of Squares"
   ]
  },
  {
   "cell_type": "code",
   "execution_count": 14,
   "metadata": {},
   "outputs": [],
   "source": [
    "def rsss(feature , output , intercept , slope) :\n",
    "    \n",
    "    prediction = feature * slope + intercept\n",
    "    \n",
    "    residual = output - prediction\n",
    "    \n",
    "    RSS = (residual*residual).sum()\n",
    "    \n",
    "    return RSS"
   ]
  },
  {
   "cell_type": "code",
   "execution_count": 15,
   "metadata": {},
   "outputs": [
    {
     "name": "stdout",
     "output_type": "stream",
     "text": [
      "263927696.86983615\n"
     ]
    }
   ],
   "source": [
    "print(rsss(data_test[\"YearsExperience\"] , data_test[\"Salary\"] , intercept , slope))"
   ]
  },
  {
   "cell_type": "markdown",
   "metadata": {},
   "source": [
    "2) R - SQUARED"
   ]
  },
  {
   "cell_type": "code",
   "execution_count": 16,
   "metadata": {},
   "outputs": [],
   "source": [
    "def RSquared(feature , output , intercept , slope) :\n",
    "    \n",
    "    prediction = feature * slope + intercept\n",
    "    \n",
    "    residual = output - prediction\n",
    "    \n",
    "    RES = (residual*residual).sum()\n",
    "    \n",
    "    REST = output - output.mean()\n",
    "    \n",
    "    TOT = (REST*REST).sum()\n",
    "    \n",
    "    return (1 - RES/TOT)"
   ]
  },
  {
   "cell_type": "code",
   "execution_count": 17,
   "metadata": {},
   "outputs": [
    {
     "name": "stdout",
     "output_type": "stream",
     "text": [
      "0.7154263893578967\n"
     ]
    }
   ],
   "source": [
    "print(RSquared(data_test[\"YearsExperience\"] , data_test[\"Salary\"] , intercept , slope))"
   ]
  },
  {
   "cell_type": "markdown",
   "metadata": {},
   "source": [
    "3) MEAN ABSOLUTE ERROR"
   ]
  },
  {
   "cell_type": "code",
   "execution_count": 18,
   "metadata": {},
   "outputs": [],
   "source": [
    "def MeanAbsoluteError(feature , output , intercept , slope) :\n",
    "    \n",
    "    prediction = feature * slope + intercept\n",
    "    \n",
    "    Yi = output\n",
    "    \n",
    "    var = (Yi - prediction).abs().sum()\n",
    "    \n",
    "    MAE = var/len(Yi)\n",
    "    \n",
    "    return MAE"
   ]
  },
  {
   "cell_type": "code",
   "execution_count": 19,
   "metadata": {},
   "outputs": [
    {
     "name": "stdout",
     "output_type": "stream",
     "text": [
      "3950.36424215818\n"
     ]
    }
   ],
   "source": [
    "print(MeanAbsoluteError(data_test[\"YearsExperience\"] , data_test[\"Salary\"] , intercept , slope))"
   ]
  },
  {
   "cell_type": "markdown",
   "metadata": {},
   "source": [
    "4) MEAN SQUARE ERROR"
   ]
  },
  {
   "cell_type": "code",
   "execution_count": 20,
   "metadata": {},
   "outputs": [],
   "source": [
    "def MeanSquareError(feature , output , intercept , slope) :\n",
    "    \n",
    "    prediction = feature * slope + intercept\n",
    "    \n",
    "    Yi = output\n",
    "    \n",
    "    var = ((Yi - prediction)*(Yi - prediction)).sum()\n",
    "    \n",
    "    MSE = var/len(Yi)\n",
    "    \n",
    "    return MSE"
   ]
  },
  {
   "cell_type": "code",
   "execution_count": 21,
   "metadata": {},
   "outputs": [
    {
     "name": "stdout",
     "output_type": "stream",
     "text": [
      "26392769.686983615\n"
     ]
    }
   ],
   "source": [
    "print(MeanSquareError(data_test[\"YearsExperience\"] , data_test[\"Salary\"] , intercept , slope))"
   ]
  },
  {
   "cell_type": "markdown",
   "metadata": {},
   "source": [
    "5) MEAN ABSOLUTE PERCENTAGE ERROR "
   ]
  },
  {
   "cell_type": "code",
   "execution_count": 22,
   "metadata": {},
   "outputs": [],
   "source": [
    "def MeanAbsoltePercentageError(feature , output , intercept , slope) :\n",
    "    \n",
    "    prediction = feature * slope + intercept\n",
    "    \n",
    "    Yi = output\n",
    "    \n",
    "    var = ((Yi - prediction)/Yi).abs().sum()\n",
    "    \n",
    "    MAPE = var/len(Yi)*100\n",
    "    \n",
    "    return MAPE"
   ]
  },
  {
   "cell_type": "code",
   "execution_count": 23,
   "metadata": {},
   "outputs": [
    {
     "name": "stdout",
     "output_type": "stream",
     "text": [
      "3.6755884250131294\n"
     ]
    }
   ],
   "source": [
    "print(MeanAbsoltePercentageError(data_test[\"YearsExperience\"] , data_test[\"Salary\"] , intercept , slope))"
   ]
  },
  {
   "cell_type": "markdown",
   "metadata": {},
   "source": [
    "6) MEAN PERCENTAGE ERROR"
   ]
  },
  {
   "cell_type": "code",
   "execution_count": 24,
   "metadata": {},
   "outputs": [],
   "source": [
    "def MeanPercentageError(feature , output , intercept , slope) :\n",
    "    \n",
    "    prediction = feature * slope + intercept\n",
    "    \n",
    "    Yi = output\n",
    "    \n",
    "    var = ((Yi - prediction)/Yi).sum()\n",
    "    \n",
    "    MPE = var/len(Yi)*100\n",
    "    \n",
    "    return MPE"
   ]
  },
  {
   "cell_type": "code",
   "execution_count": 25,
   "metadata": {},
   "outputs": [
    {
     "name": "stdout",
     "output_type": "stream",
     "text": [
      "2.7712432542231156\n"
     ]
    }
   ],
   "source": [
    "print(MeanPercentageError(data_test[\"YearsExperience\"] , data_test[\"Salary\"] , intercept , slope))"
   ]
  },
  {
   "cell_type": "code",
   "execution_count": null,
   "metadata": {},
   "outputs": [],
   "source": []
  }
 ],
 "metadata": {
  "kernelspec": {
   "display_name": "Python 3",
   "language": "python",
   "name": "python3"
  },
  "language_info": {
   "codemirror_mode": {
    "name": "ipython",
    "version": 3
   },
   "file_extension": ".py",
   "mimetype": "text/x-python",
   "name": "python",
   "nbconvert_exporter": "python",
   "pygments_lexer": "ipython3",
   "version": "3.7.6"
  }
 },
 "nbformat": 4,
 "nbformat_minor": 4
}
